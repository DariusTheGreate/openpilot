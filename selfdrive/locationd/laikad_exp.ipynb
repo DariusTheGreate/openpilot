{
 "cells": [
  {
   "cell_type": "code",
   "execution_count": null,
   "outputs": [],
   "source": [
    "import pickle\n",
    "import numpy as np\n",
    "\n",
    "import laika.raw_gnss as raw\n",
    "from cereal import messaging\n",
    "from laika import AstroDog, helpers\n",
    "from laika.gps_time import GPSTime\n",
    "from laika.raw_gnss import read_raw_ublox\n"
   ],
   "metadata": {
    "collapsed": false,
    "pycharm": {
     "name": "#%%\n"
    }
   }
  },
  {
   "cell_type": "code",
   "execution_count": null,
   "outputs": [],
   "source": [
    "from laika.raw_gnss import calc_pos_fix, calc_vel_fix, correct_measurements, group_measurements_by_epoch,  group_measurements_by_sat,  process_measurements\n",
    "\n",
    "# Seems that we can have these sm messages:\n",
    "#   \"gpsLocationExternal\"\n",
    "#   \"ubloxGnss\"\n",
    "#   \"qcomGnss\"\n",
    "#   \"ubloxRaw\"\n",
    "#   \"liveLocationKalman\"\n",
    "\n",
    "# noinspection PyUnreachableCode\n",
    "\n",
    "def process(ubloxGnss):\n",
    "  # Can also be 'measurementReport', 'ephemeris', 'ionoData', 'hwStatus', 'hwStatus2'\n",
    "\n",
    "  if ubloxGnss.which == 'measurementReport':\n",
    "    report = ubloxGnss.measurementReport\n",
    "#     print(ubloxGnss)\n",
    "    # With internet: uses dog\n",
    "    if len(report.measurements) > 0 and False:\n",
    "      new_meas = read_raw_ublox(report)\n",
    "      new_meas = [m for m in new_meas if helpers.get_constellation(m.prn) == 'GPS']\n",
    "      measurements.extend(new_meas)\n",
    "      process_measurements(measurements, dog)\n",
    "\n",
    "      recv_time = GPSTime(report.gpsWeek, report.rcvTow)\n",
    "      measurements_t.append(recv_time.as_datetime())\n",
    "\n",
    "\n",
    "filename = 'run_200.pickle'\n",
    "handle = open(filename, 'rb')\n",
    "raw_replay = pickle.load(handle)\n",
    "\n",
    "measurements = []\n",
    "measurements_t = []\n",
    "dog = AstroDog(valid_const=['GPS', 'GLONASS'])\n",
    "\n",
    "for ublox in raw_replay['raw_ubloxGnss']:\n",
    "  # print(\"processing\")\n",
    "  process(ublox)\n",
    "\n"
   ],
   "metadata": {
    "collapsed": false,
    "pycharm": {
     "name": "#%%\n"
    }
   }
  },
  {
   "cell_type": "code",
   "execution_count": null,
   "outputs": [],
   "source": [
    "from laika.raw_gnss import group_measurements_by_sat, process_measurements\n",
    "from math import ceil\n",
    "\n",
    "print(\"Grouping\")\n",
    "measurements_by_epoch = group_measurements_by_epoch(measurements)\n",
    "measurements_by_satellite = group_measurements_by_sat(measurements)\n",
    "\n",
    "proc_meas = []\n",
    "pos_solutions, vel_solutions = [], []\n",
    "corrected_measurements_by_epoch = []\n",
    "for meas_epoch in measurements_by_epoch[::2]:\n",
    "  processed = process_measurements(meas_epoch, dog)\n",
    "  pos_fix = calc_pos_fix(processed)\n",
    "  # can be none if less than 6 satellites\n",
    "  if len(pos_fix) > 0:\n",
    "    est_pos = pos_fix[0][:3]\n",
    "    corrected = correct_measurements(meas_epoch, est_pos, dog)\n",
    "    corrected_measurements_by_epoch.append(corrected)\n",
    "    pos_solutions.append(calc_pos_fix(corrected))\n",
    "    # you need an estimate position to calculate a velocity fix\n",
    "    vel_solutions.append(calc_vel_fix(corrected, pos_solutions[-1][0]))"
   ],
   "metadata": {
    "collapsed": false,
    "pycharm": {
     "name": "#%%\n"
    }
   }
  },
  {
   "cell_type": "code",
   "execution_count": null,
   "outputs": [],
   "source": [
    "\n",
    "receiver_pos_solutions = np.zeros((len(pos_solutions), 3))\n",
    "for i, p in enumerate(pos_solutions):\n",
    "  receiver_pos_solutions[i] = p[0][:3]\n",
    "\n",
    "import matplotlib.pyplot as plt\n",
    "plt.figure(figsize=(10,10))\n",
    "plt.subplot(1, 2, 1)\n",
    "plt.scatter(receiver_pos_solutions[:, 0], receiver_pos_solutions[:, 1])\n",
    "plt.show()\n",
    "# print(pos_solutions[1])\n",
    "\n",
    "plt.figure()\n",
    "plt.title('Residuals of pseudoranges in positions solutions (m)', fontsize=25)\n",
    "sns.histplot(np.concatenate([sol[1] for sol in pos_solutions]), bins=arange(-5, 5, .5), kde=False, stat=\"density\", linewidth=0)\n",
    "plt.xlim(-5, 5)\n"
   ],
   "metadata": {
    "collapsed": false,
    "pycharm": {
     "name": "#%%\n"
    }
   }
  }
 ],
 "metadata": {
  "kernelspec": {
   "display_name": "Python 3 (ipykernel)",
   "language": "python",
   "name": "python3"
  },
  "language_info": {
   "codemirror_mode": {
    "name": "ipython",
    "version": 3
   },
   "file_extension": ".py",
   "mimetype": "text/x-python",
   "name": "python",
   "nbconvert_exporter": "python",
   "pygments_lexer": "ipython3",
   "version": "3.8.10"
  }
 },
 "nbformat": 4,
 "nbformat_minor": 1
}