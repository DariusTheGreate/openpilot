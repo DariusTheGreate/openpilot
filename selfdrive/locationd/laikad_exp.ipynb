{
 "cells": [
  {
   "cell_type": "code",
   "execution_count": 2,
   "metadata": {},
   "outputs": [],
   "source": [
    "import pickle\n",
    "import numpy as np\n",
    "\n",
    "import laika.raw_gnss as raw\n",
    "from cereal import messaging\n",
    "from laika import AstroDog, helpers\n",
    "from laika.gps_time import GPSTime\n",
    "from laika.raw_gnss import read_raw_ublox\n"
   ]
  },
  {
   "cell_type": "code",
   "execution_count": 4,
   "metadata": {
    "pycharm": {
     "name": "#%%\n"
    }
   },
   "outputs": [],
   "source": [
    "from laika.raw_gnss import calc_pos_fix, calc_vel_fix, correct_measurements, group_measurements_by_epoch,  group_measurements_by_sat,  process_measurements\n",
    "\n",
    "# Seems that we can have these sm messages:\n",
    "#   \"gpsLocationExternal\"\n",
    "#   \"ubloxGnss\"\n",
    "#   \"qcomGnss\"\n",
    "#   \"ubloxRaw\"\n",
    "#   \"liveLocationKalman\"\n",
    "\n",
    "# noinspection PyUnreachableCode\n",
    "\n",
    "def process(ubloxGnss):\n",
    "  # Can also be 'measurementReport', 'ephemeris', 'ionoData', 'hwStatus', 'hwStatus2'\n",
    "\n",
    "  if ubloxGnss.which == 'measurementReport':\n",
    "    report = ubloxGnss.measurementReport\n",
    "#     print(ubloxGnss)\n",
    "    # With internet: uses dog\n",
    "    if len(report.measurements) > 0 and False:\n",
    "      new_meas = read_raw_ublox(report)\n",
    "      new_meas = [m for m in new_meas if helpers.get_constellation(m.prn) == 'GPS']\n",
    "      measurements.extend(new_meas)\n",
    "      process_measurements(measurements, dog)\n",
    "\n",
    "      recv_time = GPSTime(report.gpsWeek, report.rcvTow)\n",
    "      measurements_t.append(recv_time.as_datetime())\n",
    "\n",
    "\n",
    "filename = 'run_200.pickle'\n",
    "handle = open(filename, 'rb')\n",
    "raw_replay = pickle.load(handle)\n",
    "\n",
    "measurements = []\n",
    "measurements_t = []\n",
    "dog = AstroDog(valid_const=['GPS', 'GLONASS'])\n",
    "\n",
    "for ublox in raw_replay['raw_ubloxGnss']:\n",
    "  # print(\"processing\")\n",
    "  process(ublox)\n",
    "\n"
   ]
  },
  {
   "cell_type": "code",
   "execution_count": 33,
   "metadata": {
    "pycharm": {
     "name": "#%%\n"
    }
   },
   "outputs": [
    {
     "name": "stdout",
     "output_type": "stream",
     "text": [
      "Grouping\n"
     ]
    }
   ],
   "source": [
    "from laika.raw_gnss import group_measurements_by_sat, process_measurements\n",
    "from math import ceil\n",
    "\n",
    "print(\"Grouping\")\n",
    "measurements_by_epoch = group_measurements_by_epoch(measurements)\n",
    "measurements_by_satellite = group_measurements_by_sat(measurements)\n",
    "\n",
    "proc_meas = []\n",
    "pos_solutions, vel_solutions = [], []\n",
    "corrected_measurements_by_epoch = []\n",
    "for meas_epoch in measurements_by_epoch[::2]:\n",
    "  processed = process_measurements(meas_epoch, dog)\n",
    "  pos_fix = calc_pos_fix(processed)\n",
    "  # can be none if less than 6 satellites\n",
    "  if len(pos_fix) > 0:\n",
    "    est_pos = pos_fix[0][:3]\n",
    "    corrected = correct_measurements(meas_epoch, est_pos, dog)\n",
    "    corrected_measurements_by_epoch.append(corrected)\n",
    "    pos_solutions.append(calc_pos_fix(corrected))\n",
    "    # you need an estimate position to calculate a velocity fix\n",
    "    vel_solutions.append(calc_vel_fix(corrected, pos_solutions[-1][0]))"
   ]
  },
  {
   "cell_type": "code",
   "execution_count": 41,
   "metadata": {
    "pycharm": {
     "name": "#%%\n"
    }
   },
   "outputs": [
    {
     "data": {
      "image/png": "[encoded data removed]",
      "text/plain": [
       "<Figure size 720x720 with 1 Axes>"
      ]
     },
     "metadata": {
      "needs_background": "light"
     },
     "output_type": "display_data"
    },
    {
     "ename": "NameError",
     "evalue": "name 'sns' is not defined",
     "output_type": "error",
     "traceback": [
      "\u001B[0;31m---------------------------------------------------------------------------\u001B[0m",
      "\u001B[0;31mNameError\u001B[0m                                 Traceback (most recent call last)",
      "Input \u001B[0;32mIn [41]\u001B[0m, in \u001B[0;36m<cell line: 14>\u001B[0;34m()\u001B[0m\n\u001B[1;32m     12\u001B[0m plt\u001B[38;5;241m.\u001B[39mfigure()\n\u001B[1;32m     13\u001B[0m plt\u001B[38;5;241m.\u001B[39mtitle(\u001B[38;5;124m'\u001B[39m\u001B[38;5;124mResiduals of pseudoranges in positions solutions (m)\u001B[39m\u001B[38;5;124m'\u001B[39m, fontsize\u001B[38;5;241m=\u001B[39m\u001B[38;5;241m25\u001B[39m)\n\u001B[0;32m---> 14\u001B[0m \u001B[43msns\u001B[49m\u001B[38;5;241m.\u001B[39mhistplot(np\u001B[38;5;241m.\u001B[39mconcatenate([sol[\u001B[38;5;241m1\u001B[39m] \u001B[38;5;28;01mfor\u001B[39;00m sol \u001B[38;5;129;01min\u001B[39;00m pos_solutions]), bins\u001B[38;5;241m=\u001B[39marange(\u001B[38;5;241m-\u001B[39m\u001B[38;5;241m5\u001B[39m, \u001B[38;5;241m5\u001B[39m, \u001B[38;5;241m.5\u001B[39m), kde\u001B[38;5;241m=\u001B[39m\u001B[38;5;28;01mFalse\u001B[39;00m, stat\u001B[38;5;241m=\u001B[39m\u001B[38;5;124m\"\u001B[39m\u001B[38;5;124mdensity\u001B[39m\u001B[38;5;124m\"\u001B[39m, linewidth\u001B[38;5;241m=\u001B[39m\u001B[38;5;241m0\u001B[39m)\n\u001B[1;32m     15\u001B[0m plt\u001B[38;5;241m.\u001B[39mxlim(\u001B[38;5;241m-\u001B[39m\u001B[38;5;241m5\u001B[39m, \u001B[38;5;241m5\u001B[39m)\n",
      "\u001B[0;31mNameError\u001B[0m: name 'sns' is not defined"
     ]
    },
    {
     "data": {
      "image/png": "[encoded data removed]",
      "text/plain": [
       "<Figure size 432x288 with 1 Axes>"
      ]
     },
     "metadata": {
      "needs_background": "light"
     },
     "output_type": "display_data"
    }
   ],
   "source": [
    "\n",
    "receiver_pos_solutions = np.zeros((len(pos_solutions), 3))\n",
    "for i, p in enumerate(pos_solutions):\n",
    "  receiver_pos_solutions[i] = p[0][:3]\n",
    "\n",
    "import matplotlib.pyplot as plt\n",
    "plt.figure(figsize=(10,10))\n",
    "plt.subplot(1, 2, 1)\n",
    "plt.scatter(receiver_pos_solutions[:, 0], receiver_pos_solutions[:, 1])\n",
    "plt.show()\n",
    "# print(pos_solutions[1])\n",
    "\n",
    "plt.figure()\n",
    "plt.title('Residuals of pseudoranges in positions solutions (m)', fontsize=25)\n",
    "sns.histplot(np.concatenate([sol[1] for sol in pos_solutions]), bins=arange(-5, 5, .5), kde=False, stat=\"density\", linewidth=0)\n",
    "plt.xlim(-5, 5)\n"
   ]
  }
 ],
 "metadata": {
  "kernelspec": {
   "display_name": "Python 3 (ipykernel)",
   "language": "python",
   "name": "python3"
  },
  "language_info": {
   "codemirror_mode": {
    "name": "ipython",
    "version": 3
   },
   "file_extension": ".py",
   "mimetype": "text/x-python",
   "name": "python",
   "nbconvert_exporter": "python",
   "pygments_lexer": "ipython3",
   "version": "3.8.10"
  }
 },
 "nbformat": 4,
 "nbformat_minor": 1
}